{
 "cells": [
  {
   "cell_type": "code",
   "execution_count": 4,
   "id": "3bed833b-54e5-4865-add9-b73c3e10da5e",
   "metadata": {},
   "outputs": [],
   "source": [
    "import os, sys\n",
    "import django\n",
    "PROJECTPATH = './'\n",
    "sys.path.insert(0, PROJECTPATH)\n",
    "os.environ.setdefault(\"DJANGO_SETTINGS_MODULE\", \"my.django.settings.module\")\n",
    "os.environ[\"DJANGO_ALLOW_ASYNC_UNSAFE\"] = \"true\"\n",
    "os.chdir(PROJECTPATH)\n",
    "django.setup()"
   ]
  },
  {
   "cell_type": "code",
   "execution_count": 5,
   "id": "09bd916c-8c13-414d-b746-b37db8b92b7d",
   "metadata": {},
   "outputs": [],
   "source": [
    "from inventory.models import Product"
   ]
  },
  {
   "cell_type": "code",
   "execution_count": 6,
   "id": "aa35fcea",
   "metadata": {},
   "outputs": [
    {
     "data": {
      "text/plain": [
       "<QuerySet [<Product: Fantech Hexa Cg73 Rgb Middle Tower Case>]>"
      ]
     },
     "execution_count": 6,
     "metadata": {},
     "output_type": "execute_result"
    }
   ],
   "source": [
    "Product.objects.all()"
   ]
  },
  {
   "cell_type": "code",
   "execution_count": 7,
   "id": "6ea10f42",
   "metadata": {},
   "outputs": [
    {
     "data": {
      "text/plain": [
       "['Fantech Hexa Cg73 Rgb Middle Tower Case']"
      ]
     },
     "execution_count": 7,
     "metadata": {},
     "output_type": "execute_result"
    }
   ],
   "source": [
    "[product.name for product in Product.objects.all()]"
   ]
  },
  {
   "cell_type": "code",
   "execution_count": 8,
   "id": "61e3b9c8",
   "metadata": {},
   "outputs": [],
   "source": [
    "offer = Product.objects.all().prefetch_related(\"product_offers\")"
   ]
  },
  {
   "cell_type": "code",
   "execution_count": 9,
   "id": "493c1e23",
   "metadata": {
    "scrolled": true
   },
   "outputs": [
    {
     "name": "stdout",
     "output_type": "stream",
     "text": [
      "SELECT `inventory_product`.`id`, `inventory_product`.`created_at`, `inventory_product`.`updated_at`, `inventory_product`.`deleted_at`, `inventory_product`.`created_by_id`, `inventory_product`.`updated_by_id`, `inventory_product`.`deleted_by_id`, `inventory_product`.`is_active`, `inventory_product`.`deleted`, `inventory_product`.`name`, `inventory_product`.`description`, `inventory_product`.`image`, `inventory_product`.`slug` FROM `inventory_product`\n"
     ]
    }
   ],
   "source": [
    "print(offer.query)"
   ]
  },
  {
   "cell_type": "code",
   "execution_count": 10,
   "id": "904ca8e4",
   "metadata": {},
   "outputs": [
    {
     "name": "stdout",
     "output_type": "stream",
     "text": [
      "SELECT `inventory_productoffer`.`id`, `inventory_productoffer`.`created_at`, `inventory_productoffer`.`updated_at`, `inventory_productoffer`.`deleted_at`, `inventory_productoffer`.`created_by_id`, `inventory_productoffer`.`updated_by_id`, `inventory_productoffer`.`deleted_by_id`, `inventory_productoffer`.`is_active`, `inventory_productoffer`.`deleted`, `inventory_productoffer`.`product_id`, `inventory_productoffer`.`product_sku_id`, `inventory_productoffer`.`maintain_stock`, `inventory_productoffer`.`show_reminder`, `inventory_productoffer`.`type_id`, `inventory_productoffer`.`offer_stock`, `inventory_productoffer`.`offer_price`, `inventory_productoffer`.`max_stock`, `inventory_productoffer`.`min_stock`, `inventory_productoffer`.`start_time`, `inventory_productoffer`.`end_time` FROM `inventory_productoffer` WHERE `inventory_productoffer`.`product_id` = 1\n"
     ]
    }
   ],
   "source": [
    "offer = Product.objects.all().prefetch_related(\"product_offers\")\n",
    "first_product = offer.first()\n",
    "prefetched_offers = first_product.product_offers.all()\n",
    "print(prefetched_offers.query)"
   ]
  },
  {
   "cell_type": "markdown",
   "id": "4e4dd909",
   "metadata": {},
   "source": [
    "# Values with query"
   ]
  },
  {
   "cell_type": "markdown",
   "id": "a7d0982f",
   "metadata": {},
   "source": [
    " **The values() method returns a QuerySet containing dictionaries**"
   ]
  },
  {
   "cell_type": "code",
   "execution_count": 73,
   "id": "6958f175",
   "metadata": {},
   "outputs": [],
   "source": [
    "filter_with_only = Product.objects.filter(slug=\"fantech-hexa\").values(\"slug\",\"name\")"
   ]
  },
  {
   "cell_type": "code",
   "execution_count": 74,
   "id": "0c8c8281",
   "metadata": {},
   "outputs": [
    {
     "name": "stdout",
     "output_type": "stream",
     "text": [
      "SELECT `inventory_product`.`slug`, `inventory_product`.`name` FROM `inventory_product` WHERE `inventory_product`.`slug` = fantech-hexa\n"
     ]
    }
   ],
   "source": [
    "print(filter_with_only.query)"
   ]
  },
  {
   "cell_type": "code",
   "execution_count": 65,
   "id": "70312eba",
   "metadata": {},
   "outputs": [
    {
     "name": "stdout",
     "output_type": "stream",
     "text": [
      "Fantech Hexa Cg73 Rgb Middle Tower Case\n"
     ]
    }
   ],
   "source": [
    "print(filter_with_only.first()[\"name\"])"
   ]
  },
  {
   "cell_type": "code",
   "execution_count": null,
   "id": "3caf243b",
   "metadata": {},
   "outputs": [],
   "source": [
    "filter_with_values = Product.objects.filter(slug=\"fantech-hexa\").values(\"name\")"
   ]
  },
  {
   "cell_type": "code",
   "execution_count": 36,
   "id": "6b8d7dc8",
   "metadata": {},
   "outputs": [],
   "source": [
    "filter_with_values = Product.objects.values(\"name\").get(slug=\"fantech-hexa\")"
   ]
  },
  {
   "cell_type": "code",
   "execution_count": 38,
   "id": "d4f5f029",
   "metadata": {
    "scrolled": true
   },
   "outputs": [
    {
     "name": "stdout",
     "output_type": "stream",
     "text": [
      "{'name': 'Fantech Hexa Cg73 Rgb Middle Tower Case'}\n"
     ]
    }
   ],
   "source": [
    "print(filter_with_values)"
   ]
  },
  {
   "cell_type": "code",
   "execution_count": 41,
   "id": "48202a67",
   "metadata": {},
   "outputs": [
    {
     "data": {
      "text/plain": [
       "<QuerySet [{'id': 1, 'created_at': datetime.datetime(2023, 7, 22, 14, 37, 5, 511871, tzinfo=datetime.timezone.utc), 'updated_at': datetime.datetime(2023, 7, 22, 14, 37, 5, 511918, tzinfo=datetime.timezone.utc), 'deleted_at': None, 'created_by_id': None, 'updated_by_id': None, 'deleted_by_id': None, 'is_active': True, 'deleted': False, 'name': 'Fantech Hexa Cg73 Rgb Middle Tower Case', 'description': '<p>Test Product Description</p>', 'image': 'products/images/None/963IMG_20230719_211001.jpg', 'slug': 'fantech-hexa'}]>"
      ]
     },
     "execution_count": 41,
     "metadata": {},
     "output_type": "execute_result"
    }
   ],
   "source": [
    "# This list contains a dictionary.\n",
    "Product.objects.filter(name__startswith='Fa').values()"
   ]
  },
  {
   "cell_type": "markdown",
   "id": "1b9f004b",
   "metadata": {},
   "source": [
    "# values_list with query"
   ]
  },
  {
   "cell_type": "markdown",
   "id": "82d9125b",
   "metadata": {},
   "source": [
    "**The values_list() method returns a QuerySet containing list of tuples**"
   ]
  },
  {
   "cell_type": "code",
   "execution_count": 57,
   "id": "91965347",
   "metadata": {},
   "outputs": [],
   "source": [
    "filter_with_values = Product.objects.values_list('name','id')"
   ]
  },
  {
   "cell_type": "code",
   "execution_count": 58,
   "id": "506fb531",
   "metadata": {},
   "outputs": [
    {
     "name": "stdout",
     "output_type": "stream",
     "text": [
      "SELECT `inventory_product`.`name`, `inventory_product`.`id` FROM `inventory_product`\n"
     ]
    }
   ],
   "source": [
    "print(filter_with_values.query)"
   ]
  },
  {
   "cell_type": "code",
   "execution_count": 79,
   "id": "aa6e4ded",
   "metadata": {},
   "outputs": [
    {
     "name": "stdout",
     "output_type": "stream",
     "text": [
      "SELECT `inventory_product`.`id`, LOWER(`inventory_product`.`name`) AS `lower1` FROM `inventory_product`\n"
     ]
    }
   ],
   "source": [
    "from django.db.models.functions import Lower\n",
    "filter_with_values = Product.objects.values_list(Lower('name'),'id')\n",
    "print(filter_with_values.query)"
   ]
  },
  {
   "cell_type": "markdown",
   "id": "007ce8bd",
   "metadata": {},
   "source": [
    "**flat=True return QuerySet in a list**"
   ]
  },
  {
   "cell_type": "code",
   "execution_count": 81,
   "id": "eb76444d",
   "metadata": {},
   "outputs": [
    {
     "name": "stdout",
     "output_type": "stream",
     "text": [
      "SELECT `inventory_product`.`name` FROM `inventory_product`\n"
     ]
    }
   ],
   "source": [
    "filter_with_values = Product.objects.values_list('name',flat=True)\n",
    "print(filter_with_values.query)"
   ]
  },
  {
   "cell_type": "markdown",
   "id": "80984f67",
   "metadata": {},
   "source": [
    "# Defer with query"
   ]
  },
  {
   "cell_type": "code",
   "execution_count": 83,
   "id": "9c1c549c",
   "metadata": {
    "scrolled": true
   },
   "outputs": [
    {
     "name": "stdout",
     "output_type": "stream",
     "text": [
      "SELECT `inventory_product`.`id`, `inventory_product`.`created_at`, `inventory_product`.`updated_at`, `inventory_product`.`deleted_at`, `inventory_product`.`created_by_id`, `inventory_product`.`updated_by_id`, `inventory_product`.`deleted_by_id`, `inventory_product`.`is_active`, `inventory_product`.`deleted`, `inventory_product`.`name`, `inventory_product`.`image`, `inventory_product`.`slug` FROM `inventory_product`\n"
     ]
    }
   ],
   "source": [
    "filter_with_defer = Product.objects.defer(\"description\")\n",
    "\n",
    "print(filter_with_defer.query)"
   ]
  },
  {
   "cell_type": "markdown",
   "id": "11d1fe03",
   "metadata": {},
   "source": [
    "# Only with query"
   ]
  },
  {
   "cell_type": "markdown",
   "id": "ee3111cb",
   "metadata": {},
   "source": [
    "**It will return a querySet associate with ID and the filed i specified in the only method**"
   ]
  },
  {
   "cell_type": "code",
   "execution_count": 84,
   "id": "7be56507",
   "metadata": {
    "scrolled": true
   },
   "outputs": [
    {
     "name": "stdout",
     "output_type": "stream",
     "text": [
      "SELECT `inventory_product`.`id`, `inventory_product`.`name` FROM `inventory_product`\n"
     ]
    }
   ],
   "source": [
    "filter_with_only = Product.objects.only(\"name\")\n",
    "print(filter_with_only.query)"
   ]
  },
  {
   "cell_type": "markdown",
   "id": "70647af7",
   "metadata": {},
   "source": [
    "# Only and Defer"
   ]
  },
  {
   "cell_type": "code",
   "execution_count": 85,
   "id": "8629effb",
   "metadata": {
    "scrolled": true
   },
   "outputs": [
    {
     "name": "stdout",
     "output_type": "stream",
     "text": [
      "SELECT `inventory_product`.`id`, `inventory_product`.`name`, `inventory_product`.`slug` FROM `inventory_product`\n"
     ]
    }
   ],
   "source": [
    "only_and_defer = Product.objects.only(\"name\", \"description\",\"slug\").defer(\"description\")\n",
    "print(only_and_defer.query)"
   ]
  },
  {
   "cell_type": "markdown",
   "id": "b5518532",
   "metadata": {},
   "source": [
    "# Latest Returns the latest object in the table, by date"
   ]
  },
  {
   "cell_type": "code",
   "execution_count": 90,
   "id": "f25daa5a",
   "metadata": {},
   "outputs": [
    {
     "data": {
      "text/plain": [
       "1"
      ]
     },
     "execution_count": 90,
     "metadata": {},
     "output_type": "execute_result"
    }
   ],
   "source": [
    "with_latest = Product.objects.latest('id')\n",
    "with_latest.id"
   ]
  },
  {
   "cell_type": "markdown",
   "id": "d38d5892",
   "metadata": {},
   "source": [
    "# #Prefetch() objects¶"
   ]
  },
  {
   "cell_type": "markdown",
   "id": "7c4354e2",
   "metadata": {},
   "source": [
    "**The Prefetch() object can be used to control the operation of prefetch_related().**"
   ]
  },
  {
   "cell_type": "code",
   "execution_count": 101,
   "id": "b17b41ef",
   "metadata": {},
   "outputs": [
    {
     "name": "stdout",
     "output_type": "stream",
     "text": [
      "SELECT `inventory_productoffer`.`id`, `inventory_productoffer`.`created_at`, `inventory_productoffer`.`updated_at`, `inventory_productoffer`.`deleted_at`, `inventory_productoffer`.`created_by_id`, `inventory_productoffer`.`updated_by_id`, `inventory_productoffer`.`deleted_by_id`, `inventory_productoffer`.`is_active`, `inventory_productoffer`.`deleted`, `inventory_productoffer`.`product_id`, `inventory_productoffer`.`product_sku_id`, `inventory_productoffer`.`maintain_stock`, `inventory_productoffer`.`show_reminder`, `inventory_productoffer`.`type_id`, `inventory_productoffer`.`offer_stock`, `inventory_productoffer`.`offer_price`, `inventory_productoffer`.`max_stock`, `inventory_productoffer`.`min_stock`, `inventory_productoffer`.`start_time`, `inventory_productoffer`.`end_time` FROM `inventory_productoffer` WHERE `inventory_productoffer`.`product_id` = 1\n"
     ]
    }
   ],
   "source": [
    "from django.db.models import Prefetch\n",
    "prefetch_object = Product.objects.prefetch_related(Prefetch('product_offers')).get().product_offers.all()\n",
    "print(prefetch_object.query)\n"
   ]
  },
  {
   "cell_type": "code",
   "execution_count": 113,
   "id": "20ba902f",
   "metadata": {},
   "outputs": [
    {
     "name": "stdout",
     "output_type": "stream",
     "text": [
      "ProductOffer object (1)\n"
     ]
    }
   ],
   "source": [
    "from django.db.models import Prefetch\n",
    "prefetch_object = Product.objects.prefetch_related(Prefetch('product_offers')).get().product_offers.latest(\"id\")\n",
    "print(prefetch_object)"
   ]
  },
  {
   "cell_type": "code",
   "execution_count": 119,
   "id": "dd2ba1a2",
   "metadata": {
    "scrolled": true
   },
   "outputs": [
    {
     "name": "stdout",
     "output_type": "stream",
     "text": [
      "['DoesNotExist', 'Meta', 'MultipleObjectsReturned', '__class__', '__delattr__', '__dict__', '__dir__', '__doc__', '__eq__', '__format__', '__ge__', '__getattribute__', '__getstate__', '__gt__', '__hash__', '__init__', '__init_subclass__', '__le__', '__lt__', '__module__', '__ne__', '__new__', '__reduce__', '__reduce_ex__', '__repr__', '__setattr__', '__setstate__', '__sizeof__', '__str__', '__subclasshook__', '__weakref__', '_check_column_name_clashes', '_check_constraints', '_check_db_table_comment', '_check_default_pk', '_check_field_name_clashes', '_check_fields', '_check_id_field', '_check_index_together', '_check_indexes', '_check_local_fields', '_check_long_column_names', '_check_m2m_through_same_relationship', '_check_managers', '_check_model', '_check_model_name_db_lookup_clashes', '_check_ordering', '_check_property_name_related_field_accessor_clashes', '_check_single_primary_key', '_check_swappable', '_check_unique_together', '_do_insert', '_do_update', '_get_FIELD_display', '_get_expr_references', '_get_field_value_map', '_get_next_or_previous_by_FIELD', '_get_next_or_previous_in_order', '_get_pk_val', '_get_unique_checks', '_meta', '_perform_date_checks', '_perform_unique_checks', '_prepare_related_fields_for_save', '_save_parents', '_save_table', '_set_pk_val', '_state', 'adelete', 'arefresh_from_db', 'asave', 'check', 'clean', 'clean_fields', 'created_at', 'created_by', 'created_by_id', 'current_offer_price', 'date_error_message', 'delete', 'deleted', 'deleted_at', 'deleted_by', 'deleted_by_id', 'end_time', 'from_db', 'full_clean', 'get_constraints', 'get_deferred_fields', 'get_earliest_offer', 'id', 'is_active', 'is_running', 'maintain_stock', 'max_stock', 'min_stock', 'next_id', 'next_upcoming_offer_datetime', 'objects', 'offer_logs', 'offer_price', 'offer_stock', 'offer_type', 'pk', 'prepare_database_save', 'product', 'product_id', 'product_sku', 'product_sku_id', 'refresh_from_db', 'running_id', 'save', 'save_base', 'serializable_value', 'show_reminder', 'start_time', 'type', 'type_id', 'unique_error_message', 'updated_at', 'updated_by', 'updated_by_id', 'validate_constraints', 'validate_unique']\n"
     ]
    }
   ],
   "source": [
    "from django.db.models import Prefetch\n",
    "prefetch_object = Product.objects.prefetch_related(Prefetch('product_offers')).get().product_offers.latest(\"id\")\n",
    "print(dir(prefetch_object))"
   ]
  },
  {
   "cell_type": "code",
   "execution_count": 124,
   "id": "1a3e4096",
   "metadata": {
    "scrolled": true
   },
   "outputs": [
    {
     "name": "stdout",
     "output_type": "stream",
     "text": [
      "ProductOffer object (1)\n"
     ]
    }
   ],
   "source": [
    "is_running_value = prefetch_object.is_running\n",
    "\n",
    "print(is_running_value)"
   ]
  },
  {
   "cell_type": "code",
   "execution_count": 125,
   "id": "963f1d8f",
   "metadata": {},
   "outputs": [
    {
     "name": "stdout",
     "output_type": "stream",
     "text": [
      "ProductOffer object (1)\n"
     ]
    }
   ],
   "source": [
    "# Retrieve the latest product_offers object related to the selected Product object\n",
    "prefetch_object = Product.objects.prefetch_related(Prefetch('product_offers')).get().product_offers.latest(\"id\")\n",
    "\n",
    "# Access the is_running field of the product_offers object\n",
    "is_running_value = prefetch_object.is_running\n",
    "\n",
    "print(is_running_value)"
   ]
  }
 ],
 "metadata": {
  "kernelspec": {
   "display_name": "Python 3 (ipykernel)",
   "language": "python",
   "name": "python3"
  },
  "language_info": {
   "codemirror_mode": {
    "name": "ipython",
    "version": 3
   },
   "file_extension": ".py",
   "mimetype": "text/x-python",
   "name": "python",
   "nbconvert_exporter": "python",
   "pygments_lexer": "ipython3",
   "version": "3.11.4"
  }
 },
 "nbformat": 4,
 "nbformat_minor": 5
}
