{
 "cells": [
  {
   "cell_type": "code",
   "execution_count": 3,
   "id": "3bed833b-54e5-4865-add9-b73c3e10da5e",
   "metadata": {},
   "outputs": [],
   "source": [
    "import os, sys\n",
    "import django\n",
    "PROJECTPATH = './'\n",
    "sys.path.insert(0, PROJECTPATH)\n",
    "os.environ.setdefault(\"DJANGO_SETTINGS_MODULE\", \"my.django.settings.module\")\n",
    "os.environ[\"DJANGO_ALLOW_ASYNC_UNSAFE\"] = \"true\"\n",
    "os.chdir(PROJECTPATH)\n",
    "django.setup()"
   ]
  },
  {
   "cell_type": "code",
   "execution_count": 5,
   "id": "09bd916c-8c13-414d-b746-b37db8b92b7d",
   "metadata": {},
   "outputs": [],
   "source": [
    "from inventory.models import Product"
   ]
  },
  {
   "cell_type": "code",
   "execution_count": 10,
   "id": "aa35fcea",
   "metadata": {},
   "outputs": [
    {
     "data": {
      "text/plain": [
       "<QuerySet [<Product: Fantech Hexa Cg73 Rgb Middle Tower Case>]>"
      ]
     },
     "execution_count": 10,
     "metadata": {},
     "output_type": "execute_result"
    }
   ],
   "source": [
    "Product.objects.all()"
   ]
  },
  {
   "cell_type": "code",
   "execution_count": 11,
   "id": "6ea10f42",
   "metadata": {},
   "outputs": [
    {
     "data": {
      "text/plain": [
       "['Fantech Hexa Cg73 Rgb Middle Tower Case']"
      ]
     },
     "execution_count": 11,
     "metadata": {},
     "output_type": "execute_result"
    }
   ],
   "source": [
    "[product.name for product in Product.objects.all()]"
   ]
  },
  {
   "cell_type": "code",
   "execution_count": 57,
   "id": "61e3b9c8",
   "metadata": {},
   "outputs": [],
   "source": [
    "offer = Product.objects.all().prefetch_related(\"product_offers\")"
   ]
  },
  {
   "cell_type": "code",
   "execution_count": 58,
   "id": "493c1e23",
   "metadata": {
    "scrolled": true
   },
   "outputs": [
    {
     "name": "stdout",
     "output_type": "stream",
     "text": [
      "SELECT `inventory_product`.`id`, `inventory_product`.`created_at`, `inventory_product`.`updated_at`, `inventory_product`.`deleted_at`, `inventory_product`.`created_by_id`, `inventory_product`.`updated_by_id`, `inventory_product`.`deleted_by_id`, `inventory_product`.`is_active`, `inventory_product`.`deleted`, `inventory_product`.`name`, `inventory_product`.`description`, `inventory_product`.`image`, `inventory_product`.`slug` FROM `inventory_product`\n"
     ]
    }
   ],
   "source": [
    "print(offer.query)"
   ]
  },
  {
   "cell_type": "code",
   "execution_count": 62,
   "id": "904ca8e4",
   "metadata": {},
   "outputs": [
    {
     "name": "stdout",
     "output_type": "stream",
     "text": [
      "SELECT `inventory_productoffer`.`id`, `inventory_productoffer`.`created_at`, `inventory_productoffer`.`updated_at`, `inventory_productoffer`.`deleted_at`, `inventory_productoffer`.`created_by_id`, `inventory_productoffer`.`updated_by_id`, `inventory_productoffer`.`deleted_by_id`, `inventory_productoffer`.`is_active`, `inventory_productoffer`.`deleted`, `inventory_productoffer`.`product_id`, `inventory_productoffer`.`product_sku_id`, `inventory_productoffer`.`maintain_stock`, `inventory_productoffer`.`show_reminder`, `inventory_productoffer`.`type_id`, `inventory_productoffer`.`offer_stock`, `inventory_productoffer`.`offer_price`, `inventory_productoffer`.`max_stock`, `inventory_productoffer`.`min_stock`, `inventory_productoffer`.`start_time`, `inventory_productoffer`.`end_time` FROM `inventory_productoffer` WHERE `inventory_productoffer`.`product_id` = 1\n"
     ]
    }
   ],
   "source": [
    "offer = Product.objects.all().prefetch_related(\"product_offers\")\n",
    "first_product = offer.first()\n",
    "prefetched_offers = first_product.product_offers.all()\n",
    "print(prefetched_offers.query)"
   ]
  }
 ],
 "metadata": {
  "kernelspec": {
   "display_name": "Python 3 (ipykernel)",
   "language": "python",
   "name": "python3"
  },
  "language_info": {
   "codemirror_mode": {
    "name": "ipython",
    "version": 3
   },
   "file_extension": ".py",
   "mimetype": "text/x-python",
   "name": "python",
   "nbconvert_exporter": "python",
   "pygments_lexer": "ipython3",
   "version": "3.11.3"
  }
 },
 "nbformat": 4,
 "nbformat_minor": 5
}
